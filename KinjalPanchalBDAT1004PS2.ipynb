{
 "cells": [
  {
   "cell_type": "markdown",
   "id": "5419a2bd",
   "metadata": {},
   "source": [
    "QUE:1 Consider the following Python module:\n",
    "a = 0\n",
    "def b():\n",
    " global a\n",
    " a = c(a)\n",
    "def c(a):\n",
    " return a + 2\n",
    "After importing the module into the interpreter, you execute:\n",
    ">>> b()\n",
    ">>> b()\n",
    ">>> b()\n",
    ">>> a\n",
    "?\n",
    "What value is displayed when the last expression (a) is evaluated? Explain your \n",
    "answer by indicating what happens in every executed statement"
   ]
  },
  {
   "cell_type": "code",
   "execution_count": 1,
   "id": "87b40bb8",
   "metadata": {},
   "outputs": [],
   "source": [
    "a = 0\n",
    "def b():\n",
    "    global a\n",
    "    a = c(a)\n",
    "def c(a):\n",
    "    return a + 2\n"
   ]
  },
  {
   "cell_type": "code",
   "execution_count": 2,
   "id": "39a0884b",
   "metadata": {},
   "outputs": [],
   "source": [
    "b()"
   ]
  },
  {
   "cell_type": "code",
   "execution_count": 3,
   "id": "05d8cc60",
   "metadata": {},
   "outputs": [],
   "source": [
    "b()"
   ]
  },
  {
   "cell_type": "code",
   "execution_count": 4,
   "id": "282cb45e",
   "metadata": {},
   "outputs": [],
   "source": [
    "b()"
   ]
  },
  {
   "cell_type": "code",
   "execution_count": 5,
   "id": "b3e71078",
   "metadata": {},
   "outputs": [
    {
     "data": {
      "text/plain": [
       "6"
      ]
     },
     "execution_count": 5,
     "metadata": {},
     "output_type": "execute_result"
    }
   ],
   "source": [
    "a"
   ]
  },
  {
   "cell_type": "markdown",
   "id": "5af1b5ee",
   "metadata": {},
   "source": [
    "The answer is 6 when the last expression is evaluated.\n",
    "Explaination: b() for first expression a is 0 + 2 = 2\n",
    "              b() for second expression a is 2 + 2 = 4\n",
    "              b() for third expression a is 4 + 2 = 6\n",
    "             that is, after every step 2 is added to previous value of a."
   ]
  },
  {
   "cell_type": "markdown",
   "id": "47e2be49",
   "metadata": {},
   "source": [
    "QUE:2 Function fileLength(), given to you, takes the name of a file as input and returns \n",
    "the length of the file:\n",
    ">>> fileLength('midterm.py')\n",
    "284\n",
    ">>> fileLength('idterm.py')\n",
    "Traceback (most recent call last):\n",
    "File \"<pyshell#34>\", line 1, in <module>\n",
    " fileLength('idterm.py')\n",
    "File \"/Users/me/midterm.py\", line 3, in fileLength\n",
    " infile = open(filename)\n",
    "FileNotFoundError: [Errno 2] No such file or directory: \n",
    "'idterm.py'\n",
    "As shown above, if the file cannot be found by the interpreter or if it cannot be read \n",
    "as a text file, an exception will be raised. Modify function fileLength() so that a \n",
    "friendly message is printed instead:\n",
    ">>> fileLength('midterm.py')\n",
    "358\n",
    ">>> fileLength('idterm.py')\n",
    "File idterm.py not found.\n"
   ]
  },
  {
   "cell_type": "code",
   "execution_count": 10,
   "id": "f6092734",
   "metadata": {},
   "outputs": [
    {
     "name": "stdout",
     "output_type": "stream",
     "text": [
      "72\n",
      "File ilelength.ipynb not found.\n"
     ]
    }
   ],
   "source": [
    "def fileLength(filename):\n",
    "    \n",
    "    try:\n",
    "        file=open(filename,'r')\n",
    "        content=file.readlines()\n",
    "        line=\"\"\n",
    "        \n",
    "        for i in content:\n",
    "            line+=i\n",
    "        output=len(line)\n",
    "        return output\n",
    "    \n",
    "    except FileNotFoundError:\n",
    "        return (\"File {} not found.\" .format(filename))\n",
    "\n",
    "print(fileLength('Filelength.ipynb'))\n",
    "print(fileLength('ilelength.ipynb'))"
   ]
  },
  {
   "cell_type": "markdown",
   "id": "f10dfa41",
   "metadata": {},
   "source": [
    "QUE:3 Write a class named Marsupial that can be used as shown below:\n",
    ">>> m = Marsupial()\n",
    ">>> m.put_in_pouch('doll')\n",
    ">>> m.put_in_pouch('firetruck')\n",
    ">>> m.put_in_pouch('kitten')\n",
    ">>> m.pouch_contents()\n",
    "['doll', 'firetruck', 'kitten']\n",
    "Now write a class named Kangaroo as a subclass of Marsupial that inherits all the \n",
    "attributes of Marsupial and also:\n",
    "a. extends the Marsupial __init__ constructor to take, as input, the \n",
    "coordinates x and y of the Kangaroo object,\n",
    "b. supports method jump that takes number values dx and dy as input and \n",
    "moves the kangaroo by dx units along the x-axis and by dy units along the y\u0002axis, and\n",
    "c. overloads the __str__ operator so it behaves as shown below.\n",
    ">>> k = Kangaroo(0,0)\n",
    ">>> print(k)\n",
    "I am a Kangaroo located at coordinates (0,0)\n",
    ">>> k.put_in_pouch('doll')\n",
    ">>> k.put_in_pouch('firetruck')\n",
    ">>> k.put_in_pouch('kitten')\n",
    ">>> k.pouch_contents()\n",
    "['doll', 'firetruck', 'kitten']\n",
    ">>> k.jump(1,0)\n",
    ">>> k.jump(1,0)\n",
    ">>> k.jump(1,0)\n",
    ">>> print(k)\n",
    "I am a Kangaroo located at coordinates (3,0)"
   ]
  },
  {
   "cell_type": "code",
   "execution_count": 16,
   "id": "9fe18b1c",
   "metadata": {},
   "outputs": [
    {
     "name": "stdout",
     "output_type": "stream",
     "text": [
      "I am a Kangaroo located at coordinates (0,0)\n",
      "['doll', 'firetruck', 'kitten']\n",
      "I am a Kangaroo located at coordinates (3,0)\n"
     ]
    }
   ],
   "source": [
    "class Marsupial:\n",
    "    def __init__(p):\n",
    "        p.pouch=[]\n",
    "        \n",
    "    def put_in_pouch(p, item):\n",
    "        p.pouch.append(item)\n",
    "        \n",
    "    def pouch_contents(p):\n",
    "        return p.pouch\n",
    "    \n",
    "class Kangaroo(Marsupial):\n",
    "    \n",
    "    def __init__(p, x,y):\n",
    "        Marsupial.__init__(p)\n",
    "        p.x=x\n",
    "        p.y=y\n",
    "        \n",
    "    def jump(p, dx, dy):\n",
    "        p.x+=dx\n",
    "        p.x+=dy\n",
    "        \n",
    "    def __str__(p):\n",
    "        return \"I am a Kangaroo located at coordinates (\"+str(p.x)+\",\"+str(p.y)+\")\"\n",
    "    \n",
    "k = Kangaroo(0,0)\n",
    "print(k)\n",
    "\n",
    "k.put_in_pouch('doll')\n",
    "k.put_in_pouch('firetruck')\n",
    "k.put_in_pouch('kitten')\n",
    "print(k.pouch_contents())\n",
    "\n",
    "k.jump(1,0)\n",
    "k.jump(1,0)\n",
    "k.jump(1,0)\n",
    "print(k)"
   ]
  },
  {
   "cell_type": "markdown",
   "id": "d77f555c",
   "metadata": {},
   "source": [
    "QUE:4 Write function collatz() that takes a positive integer x as input and prints the \n",
    "Collatz sequence starting at x. A Collatz sequence is obtained by repeatedly applying \n",
    "this rule to the previous number x in the sequence:\n",
    "x = {\n",
    "𝑥/2 𝑖𝑓 𝑥 𝑖𝑠 𝑒𝑣𝑒𝑛\n",
    "3𝑥 + 1 𝑖𝑓 𝑥 𝑖𝑠 𝑜𝑑𝑑\n",
    "Your function should stop when the sequence gets to number 1. Your \n",
    "implementation must be recursive, without any loops.\n",
    ">>> collatz(1)\n",
    "1\n",
    ">>> collatz(10)\n",
    "10\n",
    "5\n",
    "16\n",
    "8\n",
    "4\n",
    "2\n",
    "1"
   ]
  },
  {
   "cell_type": "code",
   "execution_count": 19,
   "id": "07147141",
   "metadata": {},
   "outputs": [
    {
     "name": "stdout",
     "output_type": "stream",
     "text": [
      "Enter a number: 10\n",
      "5\n",
      "16\n",
      "8\n",
      "4\n",
      "2\n",
      "1\n"
     ]
    }
   ],
   "source": [
    "def collatz(a):\n",
    "    \n",
    "    while a != 1:\n",
    "        if a % 2 == 0:\n",
    "            a = a // 2\n",
    "            print(a)\n",
    "            \n",
    "        elif a % 2 == 1:\n",
    "            a = a * 3 + 1\n",
    "            print(a)\n",
    "            \n",
    "a = input(\"Enter a number: \")\n",
    "a = collatz(int(a))\n",
    "            \n",
    "    "
   ]
  },
  {
   "cell_type": "markdown",
   "id": "422ec5b5",
   "metadata": {},
   "source": [
    "QUE:5 Write a recursive method binary() that takes a non-negative \n",
    "integer n and prints the binary representation of integer n.\n",
    ">>> binary(0)\n",
    "0\n",
    ">>> binary(1)\n",
    "1\n",
    ">>> binary(3)\n",
    "11\n",
    ">>> binary(9)\n",
    "1001"
   ]
  },
  {
   "cell_type": "code",
   "execution_count": 24,
   "id": "4858f528",
   "metadata": {},
   "outputs": [
    {
     "name": "stdout",
     "output_type": "stream",
     "text": [
      "0\n",
      "1\n",
      "11\n",
      "1001\n"
     ]
    }
   ],
   "source": [
    "def binary(n):\n",
    "    if n == 0:\n",
    "        return '0'\n",
    "    \n",
    "    else:\n",
    "        x = ''\n",
    "        while n > 0:\n",
    "            x = str((n % 2)) + x \n",
    "            n //=2\n",
    "        return x\n",
    "       \n",
    "\n",
    "print(binary(0))\n",
    "print(binary(1))\n",
    "print(binary(3))\n",
    "print(binary(9))\n",
    "        "
   ]
  },
  {
   "cell_type": "markdown",
   "id": "229a753b",
   "metadata": {},
   "source": [
    "QUE:6 Implement a class named HeadingParser that can be used to parse an HTML \n",
    "document, and retrieve and print all the headings in the document. You should \n",
    "implement your class as a subclass of HTMLParser, defined in Standard Library \n",
    "module html.parser. When fed a string containing HTML code, your class should \n",
    "print the headings, one per line and in the order in which they appear in the \n",
    "document. Each heading should be indented as follows: an h1 heading should have indentation 0, and h2 heading should have indentation 1, etc. Test your \n",
    "implementation using w3c.html.\n",
    ">>> infile = open('w3c.html')\n",
    ">>> content = infile.read()\n",
    ">>> infile.close()\n",
    ">>> hp = HeadingParser()\n",
    ">>> hp.feed(content)\n",
    "W3C Mission\n",
    "Principles \n"
   ]
  },
  {
   "cell_type": "code",
   "execution_count": 10,
   "id": "4a0f008d",
   "metadata": {},
   "outputs": [
    {
     "name": "stdout",
     "output_type": "stream",
     "text": [
      "\n",
      "\n",
      "\n",
      "\n",
      "Change_me\n",
      "\n",
      "\n",
      "\n",
      "\n",
      "\n",
      "\n",
      "W3C Mission\n",
      "\n",
      "Principles\n",
      "\n",
      "\n"
     ]
    }
   ],
   "source": [
    "\n",
    "\n",
    "from html.parser import HTMLParser\n",
    "\n",
    "class HeadingParser(HTMLParser):\n",
    "    def __init__(self):\n",
    "        super().__init__()\n",
    "        self.header = []\n",
    "    \n",
    "    def handle_starttag(self, tag, attrs):\n",
    "        if tag.startswith('h'):\n",
    "            self.header.append(tag)\n",
    "    \n",
    "    def handle_endtag(self, tag):\n",
    "        if tag.startswith('h'):\n",
    "            self.header.pop()     \n",
    "            \n",
    "    def handle_data(self, data):\n",
    "        if self.header:\n",
    "            print(''*(len(self.header) - 1) + data.strip())\n",
    "            \n",
    "    def print_headings(self):\n",
    "        for level,heading in self.header:\n",
    "            print(''*level+heading)\n",
    "        \n",
    "parser = HeadingParser()\n",
    "infile = open('w3c.html')\n",
    "content = infile.read()\n",
    "infile.close()\n",
    "hp = HeadingParser()\n",
    "hp.feed(content)\n",
    "hp.print_headings()"
   ]
  },
  {
   "cell_type": "markdown",
   "id": "1060b55f",
   "metadata": {},
   "source": [
    "QUE:7 Implement recursive function webdir() that takes as input: a URL (as a string) and \n",
    "non-negative integers depth and indent. Your function should visit every web \n",
    "page reachable from the starting URL web page in depth clicks or less, and print \n",
    "each web page's URL. As shown below, indentation, specified by indent, should \n",
    "be used to indicate the depth of a URL.\n",
    ">>> \n",
    "webdir('http://reed.cs.depaul.edu/lperkovic/csc242/test1.html'\n",
    ", 2, 0)\n",
    "http://reed.cs.depaul.edu/lperkovic/csc242/test1.html\n",
    " http://reed.cs.depaul.edu/lperkovic/csc242/test2.html\n",
    " http://reed.cs.depaul.edu/lperkovic/csc242/test4.html\n",
    " http://reed.cs.depaul.edu/lperkovic/csc242/test3.html\n",
    " http://reed.cs.depaul.edu/lperkovic/csc242/test4.html\n"
   ]
  },
  {
   "cell_type": "code",
   "execution_count": 40,
   "id": "0d6e6ae9",
   "metadata": {},
   "outputs": [],
   "source": [
    "import requests\n",
    "from bs4 import BeautifulSoup, SoupStrainer\n",
    "\n",
    "def getlinks(url):\n",
    "    ar = []\n",
    "    response = requests.get(url)\n",
    "    \n",
    "    for link in BeautifulSoup(response.content, parse_only=SoupStrainer('a'), features=\"html.parser\"):\n",
    "        if link.has_attr('href'):\n",
    "            if link['href'][:5] == \"http:\" or link['href'][:5] == \"https\":\n",
    "                ar.append(link['href'])\n",
    "    return ar\n",
    "\n",
    "def webdir(url, depth, indent):\n",
    "    print(indent * \" \" + url)\n",
    "    \n",
    "    if depth == 0:\n",
    "        return\n",
    "    \n",
    "    for i in getlinks(url):\n",
    "        try:\n",
    "            webdir(i, depth - 1, indent + 1)\n",
    "        except Exception as e:\n",
    "            print(f\"Error accessing {i}: {e}\")\n",
    "\n"
   ]
  },
  {
   "cell_type": "code",
   "execution_count": 39,
   "id": "f29286f2",
   "metadata": {},
   "outputs": [
    {
     "name": "stdout",
     "output_type": "stream",
     "text": [
      "http://reed.cs.depaul.edu/lperkovic/csc242/test1.html\n"
     ]
    }
   ],
   "source": [
    "webdir('http://reed.cs.depaul.edu/lperkovic/csc242/test1.html', 2, 0)"
   ]
  },
  {
   "cell_type": "code",
   "execution_count": 42,
   "id": "319dcd39",
   "metadata": {},
   "outputs": [
    {
     "name": "stdout",
     "output_type": "stream",
     "text": [
      "http://reed.cs.depaul.edu/lperkovic/csc242/test2.html\n"
     ]
    }
   ],
   "source": [
    "webdir('http://reed.cs.depaul.edu/lperkovic/csc242/test2.html', 2, 0)"
   ]
  },
  {
   "cell_type": "code",
   "execution_count": 43,
   "id": "1aa3acb9",
   "metadata": {},
   "outputs": [
    {
     "name": "stdout",
     "output_type": "stream",
     "text": [
      "http://reed.cs.depaul.edu/lperkovic/csc242/test3.html\n"
     ]
    }
   ],
   "source": [
    "webdir('http://reed.cs.depaul.edu/lperkovic/csc242/test3.html', 2, 0)"
   ]
  },
  {
   "cell_type": "code",
   "execution_count": 44,
   "id": "fb4d59ed",
   "metadata": {},
   "outputs": [
    {
     "name": "stdout",
     "output_type": "stream",
     "text": [
      "http://reed.cs.depaul.edu/lperkovic/csc242/test4.html\n"
     ]
    }
   ],
   "source": [
    "webdir('http://reed.cs.depaul.edu/lperkovic/csc242/test4.html', 2, 0)"
   ]
  },
  {
   "cell_type": "markdown",
   "id": "8f605afe",
   "metadata": {},
   "source": [
    "QUE:8 Write SQL queries on the below database table that return: \n",
    "a) All the temperature data.\n",
    "b) All the cities, but without repetition.\n",
    "c) All the records for India.\n",
    "d) All the Fall records.\n",
    "e) The city, country, and season for which the average rainfall is between 200 \n",
    "and 400 millimeters.\n",
    "f) The city and country for which the average Fall temperature is above 20 \n",
    "degrees, in increasing temperature order.\n",
    "g) The total annual rainfall for Cairo.\n",
    "h) The total rainfall for each season.\n",
    "\n",
    "City Country Season Temperature \n",
    "(C)\n",
    "Rainfall \n",
    "(mm)\n",
    "Mumbai India Winter 24.8 5.9 \n",
    "Mumbai India Spring 28.4 16.2 \n",
    "Mumbai India Summer 27.9 1549.4 \n",
    "Mumbai India Fall 27.6 346.0 \n",
    "London United Kingdom Winter 4.2 207.7 \n",
    "London United Kingdom Spring 8.3 169.6 \n",
    "London United Kingdom Summer 15.7 157.0 \n",
    "London United Kingdom Fall 10.4 218.5 \n",
    "Cairo Egypt Winter 13.6 16.5 \n",
    "Cairo Egypt Spring 20.7 6.5 \n",
    "Cairo Egypt Summer 27.7 0.1 \n",
    "Cairo Egypt Fall 22.2 4.5"
   ]
  },
  {
   "cell_type": "code",
   "execution_count": null,
   "id": "db68ab38",
   "metadata": {},
   "outputs": [],
   "source": [
    "A) \n",
    "SELECT Temperature(C)\n",
    "FROM table;"
   ]
  },
  {
   "cell_type": "code",
   "execution_count": null,
   "id": "cc6c5b52",
   "metadata": {},
   "outputs": [],
   "source": [
    "B) \n",
    "SELECT DISTINCT country\n",
    "FROM table;"
   ]
  },
  {
   "cell_type": "code",
   "execution_count": null,
   "id": "1f2740a5",
   "metadata": {},
   "outputs": [],
   "source": [
    "C)\n",
    "SELECT * FROM table\n",
    "WHERE Country='India';\n"
   ]
  },
  {
   "cell_type": "code",
   "execution_count": null,
   "id": "161d73f8",
   "metadata": {},
   "outputs": [],
   "source": [
    "D)\n",
    "SELECT * FROM table\n",
    "WHERE Season='Fall';"
   ]
  },
  {
   "cell_type": "code",
   "execution_count": null,
   "id": "20bf32c4",
   "metadata": {},
   "outputs": [],
   "source": [
    "E) \n",
    "SELECT City, Country, Season\n",
    "From table\n",
    "WHERE Rainfall BETWEEN 200 AND 400;"
   ]
  },
  {
   "cell_type": "code",
   "execution_count": null,
   "id": "8cd33380",
   "metadata": {},
   "outputs": [],
   "source": [
    "F)\n",
    "SELECT City, Country\n",
    "FROM table\n",
    "WHERE Temperature > 20 ASC;"
   ]
  },
  {
   "cell_type": "code",
   "execution_count": null,
   "id": "73058f64",
   "metadata": {},
   "outputs": [],
   "source": [
    "G) \n",
    "SELECT COUNT(Rainfall)\n",
    "FROM table\n",
    "WHERE City='Cairo';"
   ]
  },
  {
   "cell_type": "code",
   "execution_count": null,
   "id": "4518d2ac",
   "metadata": {},
   "outputs": [],
   "source": [
    "H)\n",
    "SELECT COUNT(Rainfall)\n",
    "FROM table\n",
    "GROUP BY Season;"
   ]
  },
  {
   "cell_type": "markdown",
   "id": "49172dbb",
   "metadata": {},
   "source": [
    "QUE:9 Suppose list words is defined as follows:\n",
    ">>> words = ['The', 'quick', 'brown', 'fox', 'jumps', 'over', \n",
    "'the', 'lazy', 'dog']\n",
    "Write list comprehension expressions that use list words and generate the following \n",
    "lists:\n",
    "a) ['THE', 'QUICK', 'BROWN', 'FOX', 'JUMPS', 'OVER', 'THE', \n",
    "'LAZY', 'DOG']\n",
    "b) ['the', 'quick', 'brown', 'fox', 'jumps', 'over', 'the', \n",
    "'lazy', 'dog']\n",
    "c) [3, 5, 5, 3, 5, 4, 3, 4, 3] (the list of lengths of words in list \n",
    "words).\n",
    "d) [['THE', 'the', 3], ['QUICK', 'quick', 5], ['BROWN', \n",
    "'brown', 5], ['FOX', 'fox', 3], ['JUMPS', 'jumps', 5], \n",
    "['OVER', 'over', 4], ['THE', 'the', 3], ['LAZY', 'lazy', \n",
    "4], ['DOG', 'dog', 3]] (the list containing a list for every word of list \n",
    "words, where each list contains the word in uppercase and lowercase and the \n",
    "length of the word.)\n",
    "e) ['The', 'quick', 'brown', 'fox', 'jumps', 'over', 'the', \n",
    "'lazy', 'dog'] (the list of words in list words containing 4 or more \n",
    "characters."
   ]
  },
  {
   "cell_type": "code",
   "execution_count": 6,
   "id": "76461d7a",
   "metadata": {},
   "outputs": [
    {
     "name": "stdout",
     "output_type": "stream",
     "text": [
      "Write list comprehension expressions that use list words and generate the following lists\n",
      "\n",
      "A) Convert all letters from words in uppercase:\n",
      "['THE', 'QUICK', 'BROWN', 'FOX', 'JUMPS', 'OVER', 'THE', 'LAZY', 'DOG']\n",
      "\n",
      "B) Convert all letters from words in lowercase:\n",
      "['the', 'quick', 'brown', 'fox', 'jumps', 'over', 'the', 'lazy', 'dog']\n",
      "\n",
      "C) The list of lengths of words in list words:\n",
      "[3, 5, 5, 3, 5, 4, 3, 4, 3]\n",
      "\n",
      "D) The list containing a list for every word of list words, where each list contains the word in uppercase abd lowercase and the length of the word:\n",
      "[['THE', 'the', 3], ['QUICK', 'quick', 5], ['BROWN', 'brown', 5], ['FOX', 'fox', 3], ['JUMPS', 'jumps', 5], ['OVER', 'over', 4], ['THE', 'the', 3], ['LAZY', 'lazy', 4], ['DOG', 'dog', 3]]\n",
      "\n",
      "E) The list of words in list words containing 4 or more characters:\n",
      "['quick', 'brown', 'jumps', 'over', 'lazy']\n",
      "\n"
     ]
    }
   ],
   "source": [
    "words = ['The', 'quick', 'brown', 'fox', 'jumps', 'over', 'the', 'lazy', 'dog']\n",
    "\n",
    "print('Write list comprehension expressions that use list words and generate the following lists')\n",
    "print()\n",
    "\n",
    "print('A) Convert all letters from words in uppercase:')\n",
    "print([p.upper() for p in words])\n",
    "print()\n",
    "\n",
    "print('B) Convert all letters from words in lowercase:')\n",
    "print([p.lower() for p in words])\n",
    "print()\n",
    "\n",
    "print('C) The list of lengths of words in list words:')\n",
    "print([len(p) for p in words])\n",
    "print()\n",
    "\n",
    "print('D) The list containing a list for every word of list words, where each list contains the word in uppercase abd lowercase and the length of the word:')\n",
    "print([[p.upper(), p.lower(), len(p)] for p in words])\n",
    "print()\n",
    "\n",
    "print('E) The list of words in list words containing 4 or more characters:')\n",
    "print([p for p in words if len(p)>=4])\n",
    "print()"
   ]
  }
 ],
 "metadata": {
  "kernelspec": {
   "display_name": "Python 3 (ipykernel)",
   "language": "python",
   "name": "python3"
  },
  "language_info": {
   "codemirror_mode": {
    "name": "ipython",
    "version": 3
   },
   "file_extension": ".py",
   "mimetype": "text/x-python",
   "name": "python",
   "nbconvert_exporter": "python",
   "pygments_lexer": "ipython3",
   "version": "3.10.9"
  }
 },
 "nbformat": 4,
 "nbformat_minor": 5
}
